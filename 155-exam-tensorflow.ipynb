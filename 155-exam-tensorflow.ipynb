{
 "cells": [
  {
   "cell_type": "markdown",
   "id": "af90e548",
   "metadata": {},
   "source": [
    "89:54\n",
    "\n",
    "Good luck for your test !\n",
    "\n",
    "\n",
    "Examen \n",
    "Tensorflow - Face Detection\n",
    "Cet examen a pour objectif de tester vos connaissances sur le framework Tensorflow. Suite à un exercice court sur un problème d'optimisation, nous testerons ensuite votre capacité à implémenter un réseau de neurones et une fonction de perte pour un problème de régression en computer vision.\n",
    "\n",
    "L'exercice est composé de plusieurs questions, faites-les dans l'ordre et faites attention à respecter le nom des variables. N'hésitez pas à contacter l'équipe DataScientest si vous rencontrez des problèmes sur help@datascientest.com.\n",
    "\n"
   ]
  },
  {
   "cell_type": "markdown",
   "id": "9d1b09b0",
   "metadata": {},
   "source": [
    "89:54\n",
    "\n",
    "Good luck for your test !\n",
    "\n",
    "\n",
    "Examen \n",
    "Tensorflow - Face Detection\n",
    "Cet examen a pour objectif de tester vos connaissances sur le framework Tensorflow. Suite à un exercice court sur un problème d'optimisation, nous testerons ensuite votre capacité à implémenter un réseau de neurones et une fonction de perte pour un problème de régression en computer vision.\n",
    "\n",
    "L'exercice est composé de plusieurs questions, faites-les dans l'ordre et faites attention à respecter le nom des variables. N'hésitez pas à contacter l'équipe DataScientest si vous rencontrez des problèmes sur help@datascientest.com.\n",
    "\n",
    "Partie 1: Warm Up!\n",
    "Soit  f(x)=e(x−2)+15x²+50x+1f(x)=e(x−2)+15x²+50x+1 .\n",
    "\n",
    "L'objectif de cet exercice est de trouver la valeur x qui minimise la fonction f.\n",
    "\n",
    "Définir une fonction f avec comme argument x, retournant le résultat  e(x−2)+15x²+50x+1e(x−2)+15x²+50x+1 . Attention, à utiliser que des fonctions de tensorflow.\n",
    "Calculer f(2.0)."
   ]
  },
  {
   "cell_type": "code",
   "execution_count": 1,
   "id": "fbb6586b",
   "metadata": {},
   "outputs": [],
   "source": [
    "## Insérez votre code ici\n",
    "\n",
    "\n",
    "\n"
   ]
  },
  {
   "cell_type": "markdown",
   "id": "5a335044",
   "metadata": {},
   "source": [
    "Afficher la courbe de la fonction f entre [-5, 5]\n",
    "Graphiquement, quelle est la valeur approximative x qui minimise la fonction f.\n"
   ]
  },
  {
   "cell_type": "code",
   "execution_count": 3,
   "id": "b6c8008b",
   "metadata": {},
   "outputs": [],
   "source": [
    "%matplotlib inline\n",
    "## Insérez votre code ici\n",
    "\n",
    "\n"
   ]
  },
  {
   "cell_type": "markdown",
   "id": "cd5038e2",
   "metadata": {},
   "source": [
    "Définir une variable de tensorflow x avec la valeur de -1.5.\n",
    "À l'aide GradientTape, calculer le gradient de la fonction f en cette valeur.\n"
   ]
  },
  {
   "cell_type": "code",
   "execution_count": 5,
   "id": "ba234a19",
   "metadata": {},
   "outputs": [],
   "source": [
    "## Insérez votre code ici\n"
   ]
  },
  {
   "cell_type": "markdown",
   "id": "da0a181d",
   "metadata": {},
   "source": [
    "À l'aide de l'optimiseur de votre choix, appliquer une itération de descente de gradient.\n",
    "Quelle est la nouvelle valeur de x ?\n"
   ]
  },
  {
   "cell_type": "code",
   "execution_count": 6,
   "id": "d8210147",
   "metadata": {},
   "outputs": [],
   "source": [
    "## Insérez votre code ici\n",
    "\n",
    "\n"
   ]
  },
  {
   "cell_type": "markdown",
   "id": "20d9216a",
   "metadata": {},
   "source": [
    "Comme ici ∂f(x)∂x=0∂f(x)∂x=0 n'admet pas de solution explicite, trouver la valeur numérique x qui minimise la fonction f à l'aide d'une descente de gradient.\n",
    "Est-ce que la solution est cohérente avec la solution trouvée graphiquement ?\n"
   ]
  },
  {
   "cell_type": "code",
   "execution_count": 7,
   "id": "c4e7a1ff",
   "metadata": {},
   "outputs": [],
   "source": [
    "## Insérez votre code ici\n"
   ]
  },
  {
   "cell_type": "markdown",
   "id": "753045da",
   "metadata": {},
   "source": [
    "Afficher la valeur du gradient en cette valeur.\n",
    "Est-ce que la valeur du gradient est cohérente ?\n"
   ]
  },
  {
   "cell_type": "code",
   "execution_count": null,
   "id": "0311d7d5",
   "metadata": {},
   "outputs": [],
   "source": [
    "## Insérez votre code ici\n",
    "\n"
   ]
  },
  {
   "cell_type": "markdown",
   "id": "dc118836",
   "metadata": {},
   "source": [
    "## Partie 2 : Détection de la boîte englobant le visage\n",
    "Dans cette partie de l'examen, nous allons former un modèle permettant de trouver les coordonnées du rectangle englobant le visage d'une personne. Nous travaillerons sur des images provenant de vidéo YouTube stockées sous forme d'image dans le dossier imgs\". Les cordonnées des points à l'extrémité du rectangle englobant le visage sont sous forme de CSV.\n",
    "\n",
    "Charger le fichier \"face_boxe.csv\" sous le nom df."
   ]
  },
  {
   "cell_type": "code",
   "execution_count": null,
   "id": "859406bb",
   "metadata": {},
   "outputs": [],
   "source": [
    "## Insérez votre code ici\n"
   ]
  },
  {
   "cell_type": "markdown",
   "id": "87553d0a",
   "metadata": {},
   "source": [
    "Ici, la colonne \"filename\" correspond au chemin de chaque image. Les colonnes \"xmin\", \"ymin\", \"xmax\" et \"ymax\" indiquent les coordonnées de la boite englobant le visage. Ces coordonnées sont données en valeur de pixel :\n",
    "\n",
    "* xmin : position horizontale de l'extrémité gauche de la boîte.\n",
    "* ymin : position verticale de l'extrémité gauche de la boîte.\n",
    "* xmax : position horizontale de l'extrémité droite de la boîte.\n",
    "* ymax : position verticale de l'extrémité droite de la boîte.\n"
   ]
  },
  {
   "cell_type": "markdown",
   "id": "63c3bc62",
   "metadata": {},
   "source": [
    "Charger une des images de notre dataframe (en format array), et l'afficher à l'aide de la fonction imshow de matplotlib.pyplot.\n",
    "\n",
    "Une image peut être chargée en array à partir de la fonction imread de matplotlib.pyplot.\n"
   ]
  },
  {
   "cell_type": "code",
   "execution_count": null,
   "id": "f472f7c0",
   "metadata": {},
   "outputs": [],
   "source": [
    "## Insérez votre code ici\n"
   ]
  },
  {
   "cell_type": "markdown",
   "id": "29679a0c",
   "metadata": {},
   "source": [
    "À l'aide de la fonction show_bbox, afficher une des images avec la localisation du visage.\n"
   ]
  },
  {
   "cell_type": "code",
   "execution_count": null,
   "id": "cf91fc1f",
   "metadata": {},
   "outputs": [],
   "source": [
    "%matplotlib inline\n",
    "def show_bbox(im, x_min, y_min, x_max, y_max):\n",
    "    plt.imshow(im)\n",
    "    plt.plot([x_min, x_max, x_max, x_min, x_min], [y_min, y_min, y_max, y_max, y_min], '-b')\n",
    "    \n",
    "## Insérez votre code ici\n",
    "\n"
   ]
  },
  {
   "cell_type": "markdown",
   "id": "b54e4086",
   "metadata": {},
   "source": [
    "Exécuter la cellule suivante pour afficher des images du jeu de données ainsi que le rectangle englobant le visage correspondant.\n",
    "\n",
    "Nous avons choisi d'utiliser la fonction plot de matplotlib.pyplot pour afficher les segments d'un rectangle.\n"
   ]
  },
  {
   "cell_type": "code",
   "execution_count": null,
   "id": "6b627d94",
   "metadata": {},
   "outputs": [],
   "source": [
    "import matplotlib.pyplot as plt\n",
    "import numpy as np\n",
    "plt.figure(figsize=(12,5))\n",
    "j=1\n",
    "for i in np.random.randint(0, len(df), size=[8]):\n",
    "    plt.subplot(2,4,j)\n",
    "    plt.axis('off')\n",
    "    im = plt.imread(df.filename[i])\n",
    "    plt.imshow(im)\n",
    "    x_min = df.xmin[i]\n",
    "    x_max = df.xmax[i]\n",
    "    y_min = df.ymin[i]\n",
    "    y_max = df.ymax[i]\n",
    "    show_bbox(im, x_min, y_min, x_max, y_max)\n",
    "    j+=1\n"
   ]
  },
  {
   "cell_type": "markdown",
   "id": "f9eb1d62",
   "metadata": {},
   "source": [
    "Pour localiser une unique boîte encadrant le visage dans l'image, nous pouvons se ramener à un problème de régression sur 4 variables cibles suivante.\n",
    "\n",
    "Avec :\n",
    "\n",
    "xmoy : position horizontale (normalisé) du milieu de la boîte.\n",
    "ymoy : position verticale (normalisé) du milieu de la boîte.\n",
    "w : largeur (normalisé) de la boîte.\n",
    "h : hauteur (normalisé) de la boîte.\n",
    "Les valeurs de xmoyxmoy, ymoyymoy, ww et hh doivent être comprises entre 0 et 1. Il est donc nécessaire de diviser les valeurs de xmoyxmoy, ymoyymoy, w et h par 256.\n",
    "\n",
    "Mettre en forme les données en ajoutant une colonne 'xmoy', 'ymoy', 'w' et 'h' à df.\n"
   ]
  },
  {
   "cell_type": "code",
   "execution_count": null,
   "id": "199a4970",
   "metadata": {},
   "outputs": [],
   "source": [
    "## Insérez votre code ici\n",
    "\n"
   ]
  },
  {
   "cell_type": "markdown",
   "id": "bfee6a16",
   "metadata": {},
   "source": [
    "Exécuter la cellule suivante pour vérifier que le centrage est bien fait."
   ]
  },
  {
   "cell_type": "code",
   "execution_count": null,
   "id": "5baefac1",
   "metadata": {},
   "outputs": [],
   "source": [
    "plt.figure(figsize=(12,5))\n",
    "j=1\n",
    "for i in np.random.randint(0, len(df), size=[8]):\n",
    "    plt.subplot(2,4,j)\n",
    "    plt.axis('off')\n",
    "    im = plt.imread(df.filename[i])\n",
    "    plt.imshow(im)\n",
    "    x_moy = df.xmoy[i]*im.shape[0]\n",
    "    y_moy = df.ymoy[i]*im.shape[1]\n",
    "    w = df.w[i]*im.shape[0]\n",
    "    h = df.h[i]*im.shape[1]\n",
    "    \n",
    "    x_min = x_moy-w/2\n",
    "    x_max = x_moy+w/2\n",
    "    y_min = y_moy-h/2\n",
    "    y_max = x_moy+h/2\n",
    "    show_bbox(im, x_min, y_min, x_max, y_max)\n",
    "    j+=1"
   ]
  },
  {
   "cell_type": "markdown",
   "id": "47b84344",
   "metadata": {},
   "source": [
    "Exécuter la cellule suivante pour séparer notre jeu de données en un ensemble d'entraînement, et un ensemble de test.\n"
   ]
  },
  {
   "cell_type": "code",
   "execution_count": null,
   "id": "013ccf82",
   "metadata": {},
   "outputs": [],
   "source": [
    "from sklearn.model_selection import train_test_split\n",
    "y = df[['xmoy', 'ymoy', 'w', 'h']].values\n",
    "X_train_path, X_test_path, y_train, y_test = train_test_split(df[\"filename\"].values, y, test_size=0.2, random_state=1234)\n"
   ]
  },
  {
   "cell_type": "markdown",
   "id": "8c821b63",
   "metadata": {},
   "source": [
    "Définition du dataset\n",
    "\n",
    "Maintenant que la forme de nos données est prête, il ne reste plus qu'à définir le dataset pour l'entraînement du modèle.\n",
    "\n",
    "Définir un dataset dataset_train qui va charger les images et les redimensionner en taille (256,256). Les données seront ensuite mises en lot de 32 éléments.\n"
   ]
  },
  {
   "cell_type": "code",
   "execution_count": null,
   "id": "4152b4c5",
   "metadata": {},
   "outputs": [],
   "source": [
    "## Insérez votre code ici\n"
   ]
  },
  {
   "cell_type": "markdown",
   "id": "92f527a7",
   "metadata": {},
   "source": [
    "Exécuter la cellule suivante pour vérifier que le dataset est fonctionnel."
   ]
  },
  {
   "cell_type": "code",
   "execution_count": null,
   "id": "eaca1c05",
   "metadata": {},
   "outputs": [],
   "source": [
    "X_t, y_t = next(iter(dataset_train))\n",
    "\n",
    "plt.figure(figsize=(12,5))\n",
    "j=1\n",
    "for i in np.random.randint(0, len(X_t), size=[8]):\n",
    "    plt.subplot(2,4,j)\n",
    "    plt.axis('off')\n",
    "    im = X_t[i]\n",
    "    x_moy = y_t[i][0]*im.shape[0]\n",
    "    y_moy = y_t[i][1]*im.shape[1]\n",
    "    w = y_t[i][2]*im.shape[0]\n",
    "    h = y_t[i][3]*im.shape[1]\n",
    "    \n",
    "    x_min = x_moy-w/2\n",
    "    x_max = x_moy+w/2\n",
    "    y_min = y_moy-h/2\n",
    "    y_max = x_moy+h/2\n",
    "    show_bbox(im/255, x_min, y_min, x_max, y_max)\n",
    "    j+=1"
   ]
  },
  {
   "cell_type": "markdown",
   "id": "52fa856f",
   "metadata": {},
   "source": [
    "Définir un dataset dataset_test qui va faire la même chose que le dataset_train sauf sur l'ensemble test.\n"
   ]
  },
  {
   "cell_type": "code",
   "execution_count": null,
   "id": "0e459f55",
   "metadata": {},
   "outputs": [],
   "source": [
    "## Insérez votre code ici\n",
    "\n"
   ]
  },
  {
   "cell_type": "markdown",
   "id": "30d443ee",
   "metadata": {},
   "source": [
    "Modélisation\n",
    "Vous allez maintenant définir un modèle convolutionnel permettant de prédire les valeurs xmoyxmoy, ymoyymoy, ww et hh en fonction des images en entrée.\n",
    "\n",
    "Charger un modèle CNN pré-entrainé, et adapter le pour estimer les paramètres xmoyxmoy, ymoyymoy, ww et hh. Attention à la fonction d'activation de sortie.\n",
    "Afficher le résumé du modèle.\n"
   ]
  },
  {
   "cell_type": "code",
   "execution_count": null,
   "id": "c291fb48",
   "metadata": {},
   "outputs": [],
   "source": [
    "## Insérez votre code ici\n"
   ]
  },
  {
   "cell_type": "markdown",
   "id": "ab21c0dc",
   "metadata": {},
   "source": [
    "Nous allons utiliser la fonction de coût suivante :\n",
    "\n",
    "oss=1N∑iN|xpred−xtrue|+|ypred−ytrue|+(|wpred|⎯⎯⎯⎯⎯⎯⎯⎯⎯⎯√−wtrue⎯⎯⎯⎯⎯⎯⎯⎯√ )2+(|hpred|⎯⎯⎯⎯⎯⎯⎯⎯⎯√−htrue⎯⎯⎯⎯⎯⎯⎯√ )2\n",
    "Loss=1N∑iN|xpred−xtrue|+|ypred−ytrue|+(|wpred|−wtrue )2+(|hpred|−htrue )2\n",
    "Avec N étant le nombre d'élément d'un lot de données (ici 32).\n",
    "\n",
    "   Astuce : Vous pouvez découper un tensor X en prenant toutes les lignes (:) mais en gardant qu'une colonne spécifique (i) en effectuant l'opération X[:, i]. Attention, pour l'optimisation, tensorflow a besoin que la fonction de perte n'utile que des fonctions de tensorflow.\n",
    "Définir une fonction loss_function avec comme argument y_true, y_pred retournant le résultat de la fonction de coût ci-dessus. N'hésitez pas à tester la fonction de perte à chaque étape de développement à l'aide de la cellule juste après.\n",
    "\n",
    "\n"
   ]
  },
  {
   "cell_type": "code",
   "execution_count": null,
   "id": "db761e04",
   "metadata": {},
   "outputs": [],
   "source": [
    "## Insérez votre code ici\n"
   ]
  },
  {
   "cell_type": "markdown",
   "id": "7788a9e3",
   "metadata": {},
   "source": [
    "Vous pouvez tester le bon fonctionnement de cette fonction à partir de la cellule suivante.\n",
    "\n",
    "Si vous avez des valeurs NA, vérifier bien les valeurs absolues sont bien appliquées partout (surtout en dessous des racines carrées).\n"
   ]
  },
  {
   "cell_type": "code",
   "execution_count": null,
   "id": "fb612c47",
   "metadata": {},
   "outputs": [],
   "source": [
    "# Genère un lot de données\n",
    "X_t, y_t = next(iter(dataset_train))\n",
    "# Prédiction de x,y,w et h pour chaque image du lot\n",
    "y_pred = model(X_t)\n",
    "# Convertir le type de y_pred en float64 pour éviter d'avoir des soucis de type\n",
    "y_pred = tf.cast(y_pred, tf.float64)\n",
    "# Calcul de la fonction de perte\n",
    "loss_function(y_t, y_pred)\n"
   ]
  },
  {
   "cell_type": "markdown",
   "id": "52152560",
   "metadata": {},
   "source": [
    "Compiler le modèle avec cette fonction de perte en précisant loss=loss_function et l'optimiseur de votre choix.\n",
    "Entraîner votre modèle sur un nombre d'itération faible (moins de 5 minutes d'entraînement)."
   ]
  },
  {
   "cell_type": "code",
   "execution_count": null,
   "id": "c3a19ab3",
   "metadata": {},
   "outputs": [],
   "source": [
    "## Insérez votre code ici\n"
   ]
  },
  {
   "cell_type": "markdown",
   "id": "59175a04",
   "metadata": {},
   "source": [
    "Afficher pour une des images de l'ensemble de validation le rectangle estimé par notre modèle à l'aide de la fonction show_img.\n"
   ]
  },
  {
   "cell_type": "code",
   "execution_count": null,
   "id": "ec33a4dc",
   "metadata": {},
   "outputs": [],
   "source": [
    "import numpy as np\n",
    "import time\n",
    "def show_img(im, model):\n",
    "    plt.imshow(im)\n",
    "    t0=time.time()\n",
    "    \n",
    "    x0,y0,w0,h0 = model.predict(np.array([im], dtype=np.float32))[0]\n",
    "    \n",
    "    x1= (x0-w0/2)*255\n",
    "    x2= (x0+w0/2)*255\n",
    "    y1= (y0-h0/2)*255\n",
    "    y2= (y0+h0/2)*255\n",
    "    show_bbox(im, x1, y1, x2, y2)\n",
    "    plt.show()\n",
    "## Insérez votre code ici\n"
   ]
  },
  {
   "cell_type": "markdown",
   "id": "0866f751",
   "metadata": {},
   "source": [
    "Nous vous rappelons que nous avons entraîné notre modèle que sur peu d'itération ce qui explique de mauvais résultat.\n",
    "\n",
    "Exécuter la cellule suivante pour charger un modèle entraîné sur ce jeu de données plus de 5 heures.\n"
   ]
  },
  {
   "cell_type": "code",
   "execution_count": null,
   "id": "fa7d75b3",
   "metadata": {},
   "outputs": [],
   "source": [
    "from tensorflow.keras.models import model_from_json\n",
    "# load json and create model\n",
    "json_file = open('model.json', 'r')\n",
    "model = json_file.read()\n",
    "json_file.close()\n",
    "# Load model\n",
    "model = model_from_json(model)\n",
    "# Load weights\n",
    "model.load_weights('./weights/face_detection')\n",
    "Afficher pour une des images de l'ensemble de test le rectangle estimé par notre modèle à l'aide de la fonction show_img.\n",
    "\n"
   ]
  },
  {
   "cell_type": "code",
   "execution_count": null,
   "id": "bcff48a8",
   "metadata": {},
   "outputs": [],
   "source": [
    "## Insérez votre code ici\n"
   ]
  },
  {
   "cell_type": "markdown",
   "id": "541b327a",
   "metadata": {},
   "source": [
    "Avec la fonction url_to_image, vous pouvez charger une image à partir d'un lien URL.\n",
    "\n",
    "Prédire le rectangle encadrant le visage avec des images sur internet."
   ]
  },
  {
   "cell_type": "code",
   "execution_count": null,
   "id": "6dcdc26b",
   "metadata": {},
   "outputs": [],
   "source": []
  },
  {
   "cell_type": "code",
   "execution_count": null,
   "id": "d3ab8ed7",
   "metadata": {},
   "outputs": [],
   "source": [
    "import urllib\n",
    "import cv2\n",
    "def url_to_image(url):\n",
    "    resp = urllib.request.urlopen(url) \n",
    "    img = np.asarray(bytearray(resp.read()), dtype=\"uint8\")\n",
    "    img = cv2.imdecode(img, -1)\n",
    "    img = cv2.resize(img[:,:,[2,1,0]], (256, 256))\n",
    "    return img\n"
   ]
  },
  {
   "cell_type": "code",
   "execution_count": null,
   "id": "a1fdfb06",
   "metadata": {},
   "outputs": [],
   "source": [
    "## Exemple :\n",
    "im = url_to_image(\"https://starbyface.com/ImgBase/testPhoto/test1.jpg\")\n",
    "\n",
    "## Insérez votre code ici\n",
    "\n"
   ]
  },
  {
   "cell_type": "code",
   "execution_count": null,
   "id": "de0382ad",
   "metadata": {},
   "outputs": [],
   "source": []
  }
 ],
 "metadata": {
  "kernelspec": {
   "display_name": "Python 3 (ipykernel)",
   "language": "python",
   "name": "python3"
  },
  "language_info": {
   "codemirror_mode": {
    "name": "ipython",
    "version": 3
   },
   "file_extension": ".py",
   "mimetype": "text/x-python",
   "name": "python",
   "nbconvert_exporter": "python",
   "pygments_lexer": "ipython3",
   "version": "3.9.12"
  }
 },
 "nbformat": 4,
 "nbformat_minor": 5
}
