{
 "cells": [
  {
   "cell_type": "markdown",
   "id": "0e5b38aa-a7b3-4ac7-9e20-55cfa846e518",
   "metadata": {},
   "source": [
    "# Examen\n",
    "\n",
    "## Classification d'images avec Keras : \"Are you close to Santa ?\" \n",
    "\n",
    " \n",
    "\n",
    "L'exercice est composé de plusieurs questions, faites-les dans l'ordre et faites attention à respecter le nom des variables. N'hésitez pas à contacter l'équipe DataScientest si vous rencontrez des problèmes sur help@datascientest.com.\n",
    "\n",
    "L'objet de cet exercice consiste à créer un modèle de reconnaissance d'image capable de prédire s'il y a un père noël sur l'image. Le modèle devra être le plus précis en ≠ en suivant une méthode qui minimise la taille des données pour un maximum de précision.\n",
    "\n",
    "Générateur d'images\n",
    "\n",
    "Avant d'utiliser les images d'une base de données, il faut souvent traiter en amont les images. En deep learning, le réseau de neurones doit s'entraîner sur des lots d'images de la base de données. La classe ImageDataGenerator permet de générer des lots d'images transformées pour entraîner votre réseau. Dans ce test vous devrez vous appuyer sur la documentation cliquez ici.\n",
    "\n",
    "Importer ImageDataGenerator du sous-module tensorflow.keras.preprocessing.image.\n",
    "Créer train_datagen une instance de ImageDataGenerator avec pour paramètres :   \n",
    "- rescale = 1./255,\n",
    "- shear_range = 0.2,\n",
    "- zoom_range = 0.2,\n",
    "- rotation_range=40,\n",
    "- width_shift_range=0.2,\n",
    "- height_shift_range=0.2,\n",
    "- horizontal_flip=True,\n",
    "- fill_mode='nearest'   \n",
    "\n",
    "- Créer test_datagen, une instace de ImageDataGenerator avec comme unique paramètre rescale = 1./255."
   ]
  },
  {
   "cell_type": "code",
   "execution_count": null,
   "id": "de3b8a4f-31cc-4450-a9cc-41d51b8ebba9",
   "metadata": {},
   "outputs": [],
   "source": [
    "from tensorflow.keras.preprocessing.image import ImageDataGenerator\n",
    "\n",
    "train_datagen = ImageDataGenerator(rescale = 1./255,\n",
    "                                   shear_range = 0.2,\n",
    "                                   zoom_range = 0.2,\n",
    "                                   rotation_range=40,\n",
    "                                   width_shift_range=0.2,\n",
    "                                   height_shift_range=0.2,\n",
    "                                   horizontal_flip=True,\n",
    "                                   fill_mode='nearest')\n",
    "\n",
    "test_datagen = ImageDataGenerator(rescale=1/255)"
   ]
  },
  {
   "cell_type": "code",
   "execution_count": null,
   "id": "104e4737-2347-4682-b5f5-3d83dca94d9f",
   "metadata": {},
   "outputs": [],
   "source": [
    "\"\"\" ->Found 665 images belonging to 2 classes.\n",
    "Found 78 images belonging to 2 classes.\n",
    "\"\"\""
   ]
  },
  {
   "cell_type": "markdown",
   "id": "31449477-e20c-454a-9fef-708bea9bc488",
   "metadata": {},
   "source": [
    "## Base de données et importation des données\n",
    "\n",
    "Deux dossiers s'intitulant images et images_test contiennent chacun deux sous-dossiers d'images. santa qui ne contient que des images de père Noël, et not_santa et l'autre d'images aléatoire d'objets et de personnes qui ne sont pas des pères Noël.\n",
    "\n",
    "Pour importer et transformer les images avec la classe ImageDataGenerator, on utilise la méthode flow_from_directory qui prend en argument le chemin donnant accès aux dossiers. Elle détecte automatiquement les images et les classes dans deux catégories différentes car les images sont dans deux dossiers différents.\n",
    "\n",
    "Pour plus d'information sur flow_from_directory cliquez-ici\n",
    "\n",
    "Pour importer vos images lancer le code suivant."
   ]
  },
  {
   "cell_type": "code",
   "execution_count": null,
   "id": "9cdbb912-69ba-4950-a96c-22492d59c435",
   "metadata": {},
   "outputs": [],
   "source": [
    "# On prend des lots de 32\n",
    "\n",
    "training_set = train_datagen.flow_from_directory('images',\n",
    "                                                 target_size = (64, 64),\n",
    "                                                 batch_size = 32,\n",
    "                                                 class_mode = 'categorical')\n",
    "\n",
    "test_set = test_datagen.flow_from_directory('images_test',\n",
    "                                            target_size = (64, 64),\n",
    "                                            batch_size = 32,\n",
    "                                            class_mode = 'categorical')"
   ]
  },
  {
   "cell_type": "code",
   "execution_count": null,
   "id": "55898934-4b81-4ff2-8f95-8ecb9b00598d",
   "metadata": {},
   "outputs": [],
   "source": [
    "\"\"\" -> Found 665 images belonging to 2 classes.\n",
    "Found 78 images belonging to 2 classes.  \"\"\""
   ]
  },
  {
   "cell_type": "markdown",
   "id": "136a5862-177f-44e4-bbdf-ee70003b18ac",
   "metadata": {},
   "source": [
    "## Affichage de la donnée \"Augmentée\"\n",
    "\n",
    "Observons le resultat d'une augmentation de données\n",
    "\n",
    "Exécuter la cellule suivante pour observer des données augmentées"
   ]
  },
  {
   "cell_type": "code",
   "execution_count": null,
   "id": "39b560a8-541e-4c5d-aadb-c0cdf981c073",
   "metadata": {},
   "outputs": [],
   "source": [
    "import matplotlib.pyplot as plt\n",
    "\n",
    "%matplotlib inline\n",
    "\n",
    "# ici les images sont redimensionnées en (512x512) avec target_size\n",
    "batches_real = test_datagen.flow_from_directory('images', target_size = (512, 512), batch_size = 16, class_mode = 'categorical', seed=1234)\n",
    "batches_augmented = train_datagen.flow_from_directory('images', target_size = (512, 512), batch_size = 16, class_mode = 'categorical', seed=1234)\n",
    "\n",
    "x_batch_augmented, y_batch_augmented = next(batches_augmented)  # = (9 images, 512, 512, 3 classes)  chez moi ! ok image de départ 64x64 => 512x512 ici\n",
    "x_batch_real, y_batch_real = next(batches_real)\n",
    "\n",
    "for i in range(16):\n",
    "    image_augmented = x_batch_augmented[i]\n",
    "    image_real = x_batch_real[i]\n",
    "    \n",
    "    title_add_on = \"random image\"\n",
    "    if y_batch_augmented[i][1]: title_add_on =  \"santa\"\n",
    "\n",
    "    plt.subplot(221)\n",
    "    plt.imshow(image_real)\n",
    "    plt.title(\"original \" + title_add_on)\n",
    "\n",
    "        \n",
    "    plt.subplot(222)\n",
    "    plt.imshow(image_augmented)\n",
    "    plt.title(\"augmented \" + title_add_on)\n",
    "\n",
    "    plt.show()"
   ]
  },
  {
   "cell_type": "code",
   "execution_count": null,
   "id": "bac25de3-d87e-4ab1-b3c4-806dbe3f8e8b",
   "metadata": {},
   "outputs": [],
   "source": [
    "\"\"\" Found 665 images belonging to 2 classes.\n",
    "Found 665 images belonging to 2 classes. \"\"\""
   ]
  },
  {
   "attachments": {
    "7e7b7a86-1738-4559-8df8-39690c83e817.jpg": {
     "image/jpeg": "[encoded data removed]"
    }
   },
   "cell_type": "markdown",
   "id": "ca36dfdc-b611-4f74-95d3-3c9fb841d550",
   "metadata": {},
   "source": [
    "![CNN9.jpg](attachment:7e7b7a86-1738-4559-8df8-39690c83e817.jpg)"
   ]
  },
  {
   "cell_type": "markdown",
   "id": "0183226f-1d23-4dc5-b1c0-949fa799ac59",
   "metadata": {},
   "source": [
    "- Quels sont les transformations apportées sur la donnée augmentée ?\n",
    "- Selon vous, en quoi l'augmentation de données est-elle utile pour l'entrainement d'un réseau de neuronnes ?"
   ]
  },
  {
   "cell_type": "code",
   "execution_count": null,
   "id": "ace66929-a03a-4c3c-ad3f-e176751a7a8b",
   "metadata": {},
   "outputs": [],
   "source": [
    "\"\"\"\n",
    "\n",
    "1. il y a des transformations comme :\n",
    "    * rotation\n",
    "    * zoom\n",
    "    * redimensionnement\n",
    "    * translation horizontale / verticale\n",
    "    * retournement horizontal\n",
    "    * etc\n",
    "\n",
    "    chaquee image a une ou plusieurs transformations, mais pas toutes les transformations en même temps.\n",
    "\n",
    "2. L'objectif final de tranformation permet d'augementer le jeu de données et d'éviter le sur-apprentisage.\n",
    "\n",
    "\"\"\""
   ]
  },
  {
   "cell_type": "code",
   "execution_count": null,
   "id": "a9a26b0e-ac65-4385-a776-d3fe49bb33ba",
   "metadata": {},
   "outputs": [],
   "source": [
    "Pour classer ces images, vous pouvez vous appuyer sur le réseau de neurones suivant :\n",
    "La sortie de la méthode .summary() de votre modèle devra ressembler à ceci :\n",
    "\n",
    "                            _________________________________________________________________\n",
    "                            Layer (type)                 Output Shape              Param #\n",
    "                            =================================================================\n",
    "                            conv2d_5 (Conv2D)            (None, 64, 64, 32)        128\n",
    "                            _________________________________________________________________\n",
    "                            max_pooling2d_5 (MaxPooling2 (None, 32, 32, 32)        0\n",
    "                            _________________________________________________________________\n",
    "                            conv2d_6 (Conv2D)            (None, 30, 30, 32)        9248\n",
    "                            _________________________________________________________________\n",
    "                            max_pooling2d_6 (MaxPooling2 (None, 15, 15, 32)        0\n",
    "                            _________________________________________________________________\n",
    "                            flatten_3 (Flatten)          (None, 7200)              0\n",
    "                            _________________________________________________________________\n",
    "                            dense_5 (Dense)              (None, 128)               921728\n",
    "                            _________________________________________________________________\n",
    "                            dense_6 (Dense)              (None, 2)                 258\n",
    "                            =================================================================\n",
    "                            Total params: 931,233\n",
    "                            Trainable params: 931,233\n",
    "                            Non-trainable params: 0\n",
    "                            _________________________________________________________________\n",
    "\n",
    "Implémenter votre modèle dans une instance nommée classifier.\n",
    "Entrainer votre modèle jusqu'à atteindre une précision de validation val_accuracy supérieure à 0.85, en choisissant judicieusement les paramètres d'entrainement.\n",
    "NB : Avec la dernière version de tensorflow, la méthode fit gère maintenant les générateurs.  "
   ]
  },
  {
   "cell_type": "code",
   "execution_count": null,
   "id": "5a2518a6-c2da-4527-acb9-0da1a89fb331",
   "metadata": {},
   "outputs": [],
   "source": [
    "from tensorflow.keras.layers import Dense, Flatten, Conv2D, MaxPooling2D\n",
    "\n",
    "from tensorflow.keras import Sequential\n",
    "\n",
    "\n",
    "# Insérer votre code ici\n",
    "\n",
    "# constuire le modèle\n",
    "\n",
    "classifier= Sequential()\n",
    "\n",
    "classifier.add(Conv2D(filters= 32, kernel_size= (1,1),padding= 'valid',input_shape= (64,64,3), activation= 'relu'))\n",
    "\n",
    "classifier.add(MaxPooling2D(pool_size= (2,2)))\n",
    "\n",
    "classifier.add(Conv2D(filters= 32, kernel_size= (3,3), padding= 'valid',activation= 'relu'))\n",
    "\n",
    "classifier.add(MaxPooling2D(pool_size= (2,2)))\n",
    "\n",
    "classifier.add(Flatten())\n",
    "\n",
    "classifier.add(Dense(units= 128,activation= 'relu'))\n",
    "\n",
    "classifier.add(Dense(units= 2, activation= 'softmax'))\n",
    "\n",
    "classifier.summary()"
   ]
  },
  {
   "cell_type": "markdown",
   "id": "b6287ac1-0e53-4a3d-afff-cfa94fbfbb3c",
   "metadata": {},
   "source": [
    "- Entrainer votre modèle jusqu'à atteindre une précision de validation val_accuracy supérieure à 0.85, en choisissant judicieusement les paramètres d'entrainement."
   ]
  },
  {
   "cell_type": "code",
   "execution_count": null,
   "id": "2bed6e18-8046-4f1f-9e50-77f9b0ba6acd",
   "metadata": {},
   "outputs": [],
   "source": [
    "# parames à essayer\n",
    "\n",
    "batch_size= 128\n",
    "epochs= 10\n",
    "opti= 'adam'\n",
    "loss= 'categorical_crossentropy'\n",
    "\n",
    "classifier.compile(optimizer=opti, loss=loss, metrics=['accuracy'])\n",
    "\n",
    "'''\n",
    "dict_keys(['loss', 'accuracy'])\n",
    "\n",
    "utiliser 'accuracy' comme metrics selon la version keras\n",
    "'''"
   ]
  },
  {
   "cell_type": "code",
   "execution_count": null,
   "id": "22e64580-5a11-473a-9c05-27b402dec44a",
   "metadata": {},
   "outputs": [],
   "source": [
    "history= classifier.fit_generator(generator=training_set,\n",
    "                                  epochs= epochs,\n",
    "                                  steps_per_epoch= 665//batch_size,\n",
    "                                  validation_data= test_set,\n",
    "                                  validation_steps= 78//batch_size)"
   ]
  },
  {
   "cell_type": "code",
   "execution_count": null,
   "id": "942144cc-c42f-4388-bf41-c6646a900cc0",
   "metadata": {},
   "outputs": [],
   "source": [
    "history_dict= history.history\n",
    "history_dict.keys()\n",
    "dict_keys(['loss', 'accuracy'])\n",
    "val_acc=history.history['accuracy']\n"
   ]
  },
  {
   "cell_type": "code",
   "execution_count": null,
   "id": "d026c62c-538f-4659-90e0-4f2067a7ff9a",
   "metadata": {},
   "outputs": [],
   "source": [
    "print(val_acc)"
   ]
  },
  {
   "cell_type": "code",
   "execution_count": null,
   "id": "6cecb21f-d4fe-4979-80f7-41eb88ddee61",
   "metadata": {},
   "outputs": [],
   "source": [
    "dict_keys(['loss', 'accuracy']"
   ]
  },
  {
   "cell_type": "markdown",
   "id": "bb810613-c265-4c5b-8315-797fd88a060b",
   "metadata": {},
   "source": [
    "## Test du modèle\n",
    "\n",
    "Exécuter le code suivant pour obsever la probabilité que l'on obtient pour une image de Thor."
   ]
  },
  {
   "cell_type": "code",
   "execution_count": null,
   "id": "b7cb289f-3753-4a65-9810-b57f35a57f38",
   "metadata": {},
   "outputs": [],
   "source": [
    "#Test du modèle\n",
    "# Exécuter le code suivant pour obsever la probabilité que l'on obtient pour une image de Thor.\n",
    "\n",
    "from tensorflow.keras.preprocessing import image\n",
    "import matplotlib.image as mpimg\n",
    "import numpy as np\n",
    "\n",
    "txt ='thor.jpg' # Préciser le chemin local\n",
    "test_image = image.load_img(txt, target_size = (64, 64))\n",
    "test_image = image.img_to_array(test_image)/255\n",
    "test_image = np.expand_dims(test_image, axis = 0)\n",
    "\n",
    "proba = round(100*classifier.predict(test_image)[0][1], 2)\n",
    "if proba < 50:\n",
    "    santa_or_not = 'Not Santa'\n",
    "    proba = round(100-proba, 2)\n",
    "else:\n",
    "    santa_or_not = 'Santa'\n",
    "img = mpimg.imread(txt)\n",
    "plt.axis('off')\n",
    "plt.text(-10, -15, santa_or_not+': '+str(proba)+'%', color = (1, 0, 0), fontsize = 20, fontweight = 'extra bold')\n",
    "imgplot = plt.imshow(img)"
   ]
  },
  {
   "cell_type": "markdown",
   "id": "592172df-816c-4b6e-89f0-c91b0f93b5d5",
   "metadata": {},
   "source": [
    "Réitérer le test avec les photos suivantes:\n",
    "- chien.jpg\n",
    "- chat.jpg\n",
    "- selfie.jpg\n",
    "- santa_rock.jpeg"
   ]
  },
  {
   "cell_type": "code",
   "execution_count": null,
   "id": "c360314d-e8ca-4647-bea4-ff1f976002a4",
   "metadata": {},
   "outputs": [],
   "source": [
    "# Insérer votre code ici\n",
    "\n",
    "def test(photo):\n",
    "    txt=photo # Préciser le chemin local\n",
    "    test_image= image.load_img(txt, target_size= (64, 64))\n",
    "    test_image= image.img_to_array(test_image)/255\n",
    "    test_image= np.expand_dims(test_image, axis= 0)\n",
    "    proba= round(100*classifier.predict(test_image)[0][1], 2)\n",
    "    if proba<50:\n",
    "        santa_or_not= 'Not Santa'\n",
    "        proba= round(100-proba, 2)\n",
    "    else:\n",
    "        santa_or_not= 'Santa'\n",
    "    img= mpimg.imread(txt)\n",
    "    plt.axis('off')\n",
    "    plt.text(-10, -15, santa_or_not+': '+str(proba)+'%', color= (1, 0, 0), fontsize= 20, fontweight= 'extra bold')\n",
    "    imgplot= plt.imshow(img)\n",
    "\n",
    "\n",
    "photo1= 'chien.jpg'\n",
    "\n",
    "photo2= 'chat.jpg'\n",
    "\n",
    "photo3= 'selfie.jpg'\n",
    "\n",
    "photo4= 'santa_rock.jpeg'\n",
    "\n",
    "test(photo1)\n",
    "\n"
   ]
  },
  {
   "cell_type": "code",
   "execution_count": null,
   "id": "1986cd06-b95b-40dd-b9c5-f5ad1a23e872",
   "metadata": {},
   "outputs": [],
   "source": [
    "test(photo2)"
   ]
  },
  {
   "cell_type": "code",
   "execution_count": null,
   "id": "098eeb8b-633c-4668-a47c-8b5dc39c74d5",
   "metadata": {},
   "outputs": [],
   "source": [
    "test(photo3)"
   ]
  },
  {
   "cell_type": "code",
   "execution_count": null,
   "id": "5af3ec61-1440-41e4-94aa-df73f573964c",
   "metadata": {},
   "outputs": [],
   "source": [
    "test(photo4)"
   ]
  },
  {
   "cell_type": "markdown",
   "id": "b7dcc60a-b5ea-495e-bc4d-a6ef96f48502",
   "metadata": {},
   "source": [
    "Pour approfondir sur l'augmentation de données consultez cet article du blog keras.\n",
    "\n",
    " \n",
    "\n",
    "À partir de l’adresse <https://eval.datascientest.com/user/5D32B723/notebooks/exam_python.ipynb#>"
   ]
  },
  {
   "cell_type": "code",
   "execution_count": null,
   "id": "6646bd5a-d5b1-410f-9b74-cac73db4a2fe",
   "metadata": {},
   "outputs": [],
   "source": []
  },
  {
   "cell_type": "code",
   "execution_count": null,
   "id": "08b616ab-f9fe-49b8-b90a-1e129a6441c5",
   "metadata": {},
   "outputs": [],
   "source": []
  },
  {
   "cell_type": "code",
   "execution_count": null,
   "id": "1f958335-a17c-4448-b24e-8b1316f43566",
   "metadata": {},
   "outputs": [],
   "source": []
  },
  {
   "cell_type": "code",
   "execution_count": null,
   "id": "3197d33f-3bfd-4200-b426-281bdd54b6e4",
   "metadata": {},
   "outputs": [],
   "source": []
  },
  {
   "cell_type": "code",
   "execution_count": null,
   "id": "c3627d6c-4670-4062-8bf3-d48a943fc115",
   "metadata": {},
   "outputs": [],
   "source": []
  },
  {
   "cell_type": "code",
   "execution_count": null,
   "id": "caa9595e-a300-44a3-b138-46cbebd1047e",
   "metadata": {},
   "outputs": [],
   "source": []
  }
 ],
 "metadata": {
  "kernelspec": {
   "display_name": "Python 3 (ipykernel)",
   "language": "python",
   "name": "python3"
  },
  "language_info": {
   "codemirror_mode": {
    "name": "ipython",
    "version": 3
   },
   "file_extension": ".py",
   "mimetype": "text/x-python",
   "name": "python",
   "nbconvert_exporter": "python",
   "pygments_lexer": "ipython3",
   "version": "3.9.12"
  }
 },
 "nbformat": 4,
 "nbformat_minor": 5
}
